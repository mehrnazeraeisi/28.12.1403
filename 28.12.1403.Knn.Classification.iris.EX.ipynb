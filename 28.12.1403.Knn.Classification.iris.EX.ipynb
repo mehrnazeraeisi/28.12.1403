{
 "cells": [
  {
   "cell_type": "code",
   "execution_count": 8,
   "id": "db312a25-a7a6-4f5c-acc9-aae756ed3eae",
   "metadata": {},
   "outputs": [
    {
     "name": "stdout",
     "output_type": "stream",
     "text": [
      "شکل داده‌های X: (150, 4)\n",
      "شکل داده‌های y: (150,)\n",
      "نمونه داده جدید:\n",
      "[[6.1 2.8 4.7 1.2]]\n",
      "\n",
      "نزدیک‌ترین همسایه‌ها:\n",
      "[6.1 2.9 4.7 1.4]\n",
      "[6.1 3.  4.6 1.4]\n",
      "[6.2 2.9 4.3 1.3]\n"
     ]
    }
   ],
   "source": [
    "from sklearn.neighbors import KNeighborsClassifier\n",
    "from sklearn.datasets import load_iris\n",
    "from sklearn.model_selection import train_test_split\n",
    "\n",
    "# بارگیری دیتاست Iris\n",
    "iris = load_iris()\n",
    "X = iris.data  # ویژگی‌ها\n",
    "y = iris.target  # برچسب‌ها\n",
    "\n",
    "# چاپ شکل داده‌ها (اختیاری)\n",
    "print(\"شکل داده‌های X:\", X.shape)\n",
    "print(\"شکل داده‌های y:\", y.shape)\n",
    "\n",
    "# تقسیم داده به داده‌های آموزشی و تست\n",
    "X_train, X_test, y_train, y_test = train_test_split(X, y, test_size=0.3, random_state=42)\n",
    "\n",
    "# ایجاد مدل KNN با K=3\n",
    "knn = KNeighborsClassifier(n_neighbors=3)\n",
    "\n",
    "# آموزش مدل\n",
    "knn.fit(X_train, y_train)\n",
    "\n",
    "# انتخاب یک نمونه از داده‌های تست (مثلاً اولین نمونه)\n",
    "sample = X_test[0].reshape(1, -1)\n",
    "\n",
    "# پیدا کردن نزدیک‌ترین همسایه‌ها\n",
    "distances, indices = knn.kneighbors(sample)\n",
    "\n",
    "# ذخیره داده‌های نزدیک‌ترین همسایه‌ها در یک لیست\n",
    "nearest_neighbors = [X_train[i] for i in indices[0]]\n",
    "\n",
    "print(\"نمونه داده جدید:\")\n",
    "print(sample)\n",
    "print(\"\\nنزدیک‌ترین همسایه‌ها:\")\n",
    "for neighbor in nearest_neighbors:\n",
    "    print(neighbor)"
   ]
  },
  {
   "cell_type": "code",
   "execution_count": null,
   "id": "cbe9182c-05ed-495c-b0de-35e7162d46eb",
   "metadata": {},
   "outputs": [],
   "source": []
  }
 ],
 "metadata": {
  "kernelspec": {
   "display_name": "Python 3 (ipykernel)",
   "language": "python",
   "name": "python3"
  },
  "language_info": {
   "codemirror_mode": {
    "name": "ipython",
    "version": 3
   },
   "file_extension": ".py",
   "mimetype": "text/x-python",
   "name": "python",
   "nbconvert_exporter": "python",
   "pygments_lexer": "ipython3",
   "version": "3.12.5"
  }
 },
 "nbformat": 4,
 "nbformat_minor": 5
}
